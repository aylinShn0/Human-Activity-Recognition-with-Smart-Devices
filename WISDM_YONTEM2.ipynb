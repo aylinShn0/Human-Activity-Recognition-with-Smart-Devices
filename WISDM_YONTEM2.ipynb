{
 "cells": [
  {
   "cell_type": "code",
   "execution_count": 2,
   "id": "10d7ff31",
   "metadata": {},
   "outputs": [
    {
     "name": "stdout",
     "output_type": "stream",
     "text": [
      "2.19.0\n"
     ]
    },
    {
     "name": "stderr",
     "output_type": "stream",
     "text": [
      "C:\\Users\\aylin\\AppData\\Local\\Temp\\ipykernel_19592\\2811356381.py:17: FutureWarning: DataFrame.interpolate with object dtype is deprecated and will raise in a future version. Call obj.infer_objects(copy=False) before interpolating instead.\n",
      "  raw_data.interpolate(method='linear', limit_direction ='both', inplace=True)\n"
     ]
    }
   ],
   "source": [
    "import pandas as pd\n",
    "import numpy as np\n",
    "import matplotlib.pyplot as plt\n",
    "import os\n",
    "from scipy import stats\n",
    "import tensorflow as tf\n",
    "from tensorflow.keras.models import Sequential\n",
    "from tensorflow.keras.layers import SimpleRNN, Dense, Dropout\n",
    "from sklearn.model_selection import train_test_split\n",
    "from sklearn.preprocessing import LabelEncoder\n",
    "from sklearn.metrics import classification_report, ConfusionMatrixDisplay\n",
    "from tensorflow.keras.utils import to_categorical\n",
    "print(tf.__version__)\n",
    "cols = ['user', 'activity', 'timestamp', 'x-accel', 'y-accel', 'z-accel']\n",
    "raw_data = pd.read_csv('dataset/wisdm/WISDM_ar_v1.1/WISDM_ar_v1.1_raw.txt', header=None,names=cols, sep=\",\",on_bad_lines='skip')\n",
    "raw_data['z-accel'] = raw_data['z-accel'].str.replace(';', '').astype(float)\n",
    "raw_data.interpolate(method='linear', limit_direction ='both', inplace=True)\n",
    "#Aktivite ve Kodları:\n",
    "# 0: Downstairs\n",
    "# 1: Jogging\n",
    "# 2: Sitting\n",
    "# 3: Standing\n",
    "# 4: Upstairs\n",
    "# 5: Walking\n",
    "raw_data['actvity_code'] = raw_data['activity'].astype('category').cat.codes\n",
    "work_data = raw_data[['user','actvity_code','timestamp', 'x-accel', 'y-accel', 'z-accel']]"
   ]
  },
  {
   "cell_type": "code",
   "execution_count": 3,
   "id": "ec47c7b5",
   "metadata": {},
   "outputs": [],
   "source": [
    "sample_frequency = 20\n",
    "seconds=3\n",
    "window_size = seconds * sample_frequency #20Hz 3 seconds 20*3=60\n",
    "feature_count = 3 #x,y,z\n",
    "step = window_size # for non-overlap segments\n",
    "\n",
    "segments = []\n",
    "labels = []\n",
    "\n",
    "data_for_segmentation = work_data[['x-accel', 'y-accel', 'z-accel']].values\n",
    "labels_for_segmentation = work_data['actvity_code'].values\n",
    "\n",
    "for user in work_data['user'].unique():\n",
    "    for act_code in work_data['actvity_code'].unique():\n",
    "        s_index = work_data.index[(work_data['user'] == user) & (work_data['actvity_code'] == act_code)].tolist()\n",
    "        for i in range(0, len(s_index) - window_size, step):\n",
    "            window_start = s_index[i]\n",
    "            window_end = window_start + window_size\n",
    "            \n",
    "            segment = data_for_segmentation[window_start : window_end]\n",
    "            label = stats.mode(labels_for_segmentation[window_start : window_end], keepdims=True).mode[0]\n",
    "            \n",
    "            segments.append(segment)\n",
    "            labels.append(label)\n",
    "\n",
    "reshaped_segments = np.asarray(segments, dtype=np.float32)\n",
    "labels = np.asarray(labels)\n",
    "#print(reshaped_segments)"
   ]
  }
 ],
 "metadata": {
  "kernelspec": {
   "display_name": "tf-env",
   "language": "python",
   "name": "python3"
  },
  "language_info": {
   "codemirror_mode": {
    "name": "ipython",
    "version": 3
   },
   "file_extension": ".py",
   "mimetype": "text/x-python",
   "name": "python",
   "nbconvert_exporter": "python",
   "pygments_lexer": "ipython3",
   "version": "3.10.11"
  }
 },
 "nbformat": 4,
 "nbformat_minor": 5
}
